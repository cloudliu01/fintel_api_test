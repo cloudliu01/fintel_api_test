{
 "cells": [
  {
   "cell_type": "code",
   "execution_count": 1,
   "metadata": {},
   "outputs": [
    {
     "name": "stderr",
     "output_type": "stream",
     "text": [
      "2025-03-29 11:49:24,810 - INFO - Skipping googl, file already exists.\n",
      "2025-03-29 11:49:24,810 - INFO - Skipping amzn, file already exists.\n",
      "2025-03-29 11:49:24,810 - INFO - Skipping meta, file already exists.\n",
      "2025-03-29 11:49:24,811 - INFO - Skipping nvda, file already exists.\n",
      "2025-03-29 11:49:24,811 - INFO - Skipping aapl, file already exists.\n",
      "2025-03-29 11:49:24,811 - INFO - Skipping msft, file already exists.\n",
      "2025-03-29 11:49:24,811 - INFO - Skipping tsla, file already exists.\n",
      "2025-03-29 11:49:24,812 - INFO - Skipping intc, file already exists.\n",
      "2025-03-29 11:49:24,812 - INFO - Skipping qcom, file already exists.\n",
      "2025-03-29 11:49:24,812 - INFO - Skipping mu, file already exists.\n",
      "2025-03-29 11:49:24,812 - INFO - Data retrieval completed.\n"
     ]
    },
    {
     "name": "stdout",
     "output_type": "stream",
     "text": [
      "['googl', 'amzn', 'meta', 'nvda', 'aapl', 'msft', 'tsla', 'intc', 'qcom', 'mu']\n"
     ]
    }
   ],
   "source": [
    "from main import *\n",
    "\n",
    "CURRENT_PRICE = 96.94\n",
    "CUREENT_DATE = datetime.now().strftime('%Y-%m-%d')\n",
    "CURRENT_STOCK = 'MU'\n",
    "\n",
    "print(SISTER_7_SLUGS)\n",
    "\n",
    "results_dir = OutputPathSingleton.get_path()\n",
    "api_client = StockOwnershipAPI(X_API_KEY, base_url='https://api.fintel.io/data/v/0.0/so/us/')\n",
    "api_client.retrieve_sisters_data(slug_list=SISTER_7_SLUGS)\n",
    "#api_client = StockOwnershipAPI(X_API_KEY, base_url='https://api.fintel.io/data/v/0.0/i/')\n",
    "#api_client.retrieve_sisters_data(slug_list=['vanguard-group'])\n",
    "sa = StockOwnershipAnalyzer(results_dir)\n",
    "sa.load_data()\n",
    "df_ori = sa.df\n",
    "# get all symbols \n",
    "symbols = df_ori['symbol'].unique()\n",
    "\n",
    "# print out the first 10 rows of df\n",
    "df_ori.head(10)\n",
    "\n",
    "# filter the data for TSLA\n",
    "df = df_ori[df_ori['symbol'] == CURRENT_STOCK].copy()\n",
    "\n",
    "# reset index\n",
    "df.reset_index(drop=True, inplace=True)\n",
    "\n",
    "# Convert the fileDate and effectiveDate columns to datetime\n",
    "df['fileDate'] = pd.to_datetime(df['fileDate'])\n",
    "df['effectiveDate'] = pd.to_datetime(df['effectiveDate'])"
   ]
  },
  {
   "cell_type": "code",
   "execution_count": 2,
   "metadata": {},
   "outputs": [
    {
     "name": "stdout",
     "output_type": "stream",
     "text": [
      "当前股票：MU\n",
      "当前日期：2025-03-25\n",
      "当前价格：96.94\n",
      "持仓机构数量：3,343\n"
     ]
    }
   ],
   "source": [
    "print(f'当前股票：{CURRENT_STOCK}')\n",
    "print(f'当前日期：{CUREENT_DATE}')\n",
    "print(f'当前价格：{CURRENT_PRICE}')\n",
    "\n",
    "num_of_holding_funds = df['name'].unique()\n",
    "print(f'持仓机构数量：{num_of_holding_funds.size:,.0f}')"
   ]
  },
  {
   "cell_type": "code",
   "execution_count": 3,
   "metadata": {},
   "outputs": [
    {
     "name": "stdout",
     "output_type": "stream",
     "text": [
      "持仓总股数：1,447,873,505\n",
      "持仓总市值（公布日期）：120,469,618,566.00\n",
      "持仓平均价格（公布日期）：83.20\n",
      "持仓总市值（2025-03-25）：140,356,857,574.70\n",
      "持仓平均成本（期权本身价格是否计入不明）：53.86\n"
     ]
    }
   ],
   "source": [
    "\n",
    "total_shares = df['shares'].sum()\n",
    "total_effective_value = df['value'].sum()\n",
    "total_today_value = total_shares * CURRENT_PRICE\n",
    "total_cost = df['costBasis'].sum()\n",
    "average_effective_price = total_effective_value / total_shares\n",
    "average_purchase_price = total_cost * 1000 / total_shares\n",
    "print(f'持仓总股数：{total_shares:,.0f}')\n",
    "print(f'持仓总市值（公布日期）：{total_effective_value:,.2f}')\n",
    "print(f'持仓平均价格（公布日期）：{average_effective_price:,.2f}')\n",
    "print(f'持仓总市值（{CUREENT_DATE}）：{total_today_value:,.2f}')\n",
    "print(f'持仓平均成本（期权本身价格是否计入不明）：{average_purchase_price:,.2f}')"
   ]
  },
  {
   "cell_type": "code",
   "execution_count": null,
   "metadata": {},
   "outputs": [
    {
     "name": "stdout",
     "output_type": "stream",
     "text": [
      "亏本的机构数量：      749\n",
      "亏本的持仓数量：      793\n",
      "亏本的股票总市值：    10,395,163,820.98\n",
      "亏本的股票平均价格：  103.86\n",
      "亏本机构总成本：      11,136,705,228.73\n",
      "亏损机构价值比率（%）：93.34\n",
      "盈利的机构数量：       2,029\n",
      "盈利的持仓数量：       2,089\n",
      "盈利的股票总市值：     129,759,435,229.52\n",
      "盈利的股票平均价格：   52.42\n",
      "盈利机构总成本：       70,162,440,410.59\n",
      "盈利机构价值比率（%）：184.94\n",
      "亏损总额 / 盈利总额（ 十亿 ）：-0.74 / 59.60\n"
     ]
    },
    {
     "ename": "",
     "evalue": "",
     "output_type": "error",
     "traceback": [
      "\u001b[1;31mThe Kernel crashed while executing code in the current cell or a previous cell. \n",
      "\u001b[1;31mPlease review the code in the cell(s) to identify a possible cause of the failure. \n",
      "\u001b[1;31mClick <a href='https://aka.ms/vscodeJupyterKernelCrash'>here</a> for more info. \n",
      "\u001b[1;31mView Jupyter <a href='command:jupyter.viewOutput'>log</a> for further details."
     ]
    }
   ],
   "source": [
    "# 亏本的股票\n",
    "df_loss = df[df['sharePrice'] > CURRENT_PRICE]\n",
    "df_loss_total_shares = df_loss['shares'].sum()\n",
    "df_loss_total_value_today = df_loss_total_shares * CURRENT_PRICE\n",
    "df_loss_total_cost = df_loss['costBasis'].sum() * 1000\n",
    "print(f'亏本的机构数量：      {df_loss[\"name\"].unique().size:,.0f}')\n",
    "print(f'亏本的持仓数量：      {df_loss.shape[0]:,.0f}')\n",
    "print(f'亏本的股票总市值：    {df_loss_total_value_today:,.2f}')\n",
    "print(f'亏本的股票平均价格：  {(df_loss_total_cost / df_loss_total_shares):,.2f}')\n",
    "print(f'亏本机构总成本：      {df_loss_total_cost:,.2f}')\n",
    "print(f'亏损机构价值比率（%）：{df_loss_total_value_today / df_loss_total_cost * 100:,.2f}')\n",
    "\n",
    "# 盈利的股票\n",
    "df_profit = df[df['sharePrice'] <= CURRENT_PRICE]\n",
    "df_profit_total_shares = df_profit['shares'].sum()\n",
    "df_profit_total_value_today = df_profit_total_shares * CURRENT_PRICE\n",
    "df_profit_total_cost = df_profit['costBasis'].sum() * 1000\n",
    "print(f'盈利的机构数量：       {df_profit[\"name\"].unique().size:,.0f}')\n",
    "print(f'盈利的持仓数量：       {df_profit.shape[0]:,.0f}')\n",
    "print(f'盈利的股票总市值：     {df_profit_total_value_today:,.2f}')\n",
    "print(f'盈利的股票平均价格：   {(df_profit_total_cost / df_profit_total_shares):,.2f}')\n",
    "print(f'盈利机构总成本：       {df_profit_total_cost:,.2f}')\n",
    "print(f'盈利机构价值比率（%）：{df_profit_total_value_today / df_profit_total_cost * 100:,.2f}')\n",
    "\n",
    "print(f'亏损总额 / 盈利总额（ 十亿 ）：{(df_loss_total_value_today - df_loss_total_cost) / 1000000000:,.2f} / {(df_profit_total_value_today - df_profit_total_cost) / 1000000000:,.2f}')"
   ]
  },
  {
   "cell_type": "code",
   "execution_count": null,
   "metadata": {},
   "outputs": [],
   "source": []
  },
  {
   "cell_type": "code",
   "execution_count": null,
   "metadata": {},
   "outputs": [],
   "source": []
  },
  {
   "cell_type": "code",
   "execution_count": null,
   "metadata": {},
   "outputs": [
    {
     "data": {
      "text/html": [
       "<div>\n",
       "<style scoped>\n",
       "    .dataframe tbody tr th:only-of-type {\n",
       "        vertical-align: middle;\n",
       "    }\n",
       "\n",
       "    .dataframe tbody tr th {\n",
       "        vertical-align: top;\n",
       "    }\n",
       "\n",
       "    .dataframe thead th {\n",
       "        text-align: right;\n",
       "    }\n",
       "</style>\n",
       "<table border=\"1\" class=\"dataframe\">\n",
       "  <thead>\n",
       "    <tr style=\"text-align: right;\">\n",
       "      <th></th>\n",
       "      <th>name</th>\n",
       "      <th>shares</th>\n",
       "      <th>prevShares</th>\n",
       "    </tr>\n",
       "  </thead>\n",
       "  <tbody>\n",
       "    <tr>\n",
       "      <th>47</th>\n",
       "      <td>Susquehanna International Group, Llp</td>\n",
       "      <td>54531700.0</td>\n",
       "      <td>45014900.0</td>\n",
       "    </tr>\n",
       "    <tr>\n",
       "      <th>299</th>\n",
       "      <td>Susquehanna International Group, Llp</td>\n",
       "      <td>43597900.0</td>\n",
       "      <td>30286300.0</td>\n",
       "    </tr>\n",
       "    <tr>\n",
       "      <th>300</th>\n",
       "      <td>Susquehanna International Group, Llp</td>\n",
       "      <td>1795518.0</td>\n",
       "      <td>3953176.0</td>\n",
       "    </tr>\n",
       "  </tbody>\n",
       "</table>\n",
       "</div>"
      ],
      "text/plain": [
       "                                     name      shares  prevShares\n",
       "47   Susquehanna International Group, Llp  54531700.0  45014900.0\n",
       "299  Susquehanna International Group, Llp  43597900.0  30286300.0\n",
       "300  Susquehanna International Group, Llp   1795518.0   3953176.0"
      ]
     },
     "execution_count": 13,
     "metadata": {},
     "output_type": "execute_result"
    }
   ],
   "source": []
  },
  {
   "cell_type": "code",
   "execution_count": null,
   "metadata": {},
   "outputs": [],
   "source": []
  },
  {
   "cell_type": "code",
   "execution_count": null,
   "metadata": {},
   "outputs": [],
   "source": []
  },
  {
   "cell_type": "code",
   "execution_count": null,
   "metadata": {},
   "outputs": [],
   "source": []
  }
 ],
 "metadata": {
  "kernelspec": {
   "display_name": "venv312",
   "language": "python",
   "name": "python3"
  },
  "language_info": {
   "codemirror_mode": {
    "name": "ipython",
    "version": 3
   },
   "file_extension": ".py",
   "mimetype": "text/x-python",
   "name": "python",
   "nbconvert_exporter": "python",
   "pygments_lexer": "ipython3",
   "version": "3.12.3"
  }
 },
 "nbformat": 4,
 "nbformat_minor": 2
}
